{
 "cells": [
  {
   "cell_type": "code",
   "execution_count": 39,
   "id": "372784b7",
   "metadata": {},
   "outputs": [
    {
     "name": "stdout",
     "output_type": "stream",
     "text": [
      "Available Device:  cuda\n"
     ]
    }
   ],
   "source": [
    "import torch\n",
    "import torch.nn as nn\n",
    "from torch.optim import Adam\n",
    "from transformers import AutoTokenizer, AutoModel\n",
    "from torch.utils.data import Dataset, DataLoader\n",
    "from sklearn.model_selection import train_test_split\n",
    "from sklearn.metrics import accuracy_score\n",
    "import matplotlib.pyplot as plt\n",
    "import pandas as pd\n",
    "import numpy as np\n",
    "device = 'cuda' if torch.cuda.is_available() else 'cpu'\n",
    "print(\"Available Device: \", device)\n"
   ]
  },
  {
   "cell_type": "code",
   "execution_count": 40,
   "id": "c32087d4",
   "metadata": {},
   "outputs": [
    {
     "data": {
      "text/html": [
       "<div>\n",
       "<style scoped>\n",
       "    .dataframe tbody tr th:only-of-type {\n",
       "        vertical-align: middle;\n",
       "    }\n",
       "\n",
       "    .dataframe tbody tr th {\n",
       "        vertical-align: top;\n",
       "    }\n",
       "\n",
       "    .dataframe thead th {\n",
       "        text-align: right;\n",
       "    }\n",
       "</style>\n",
       "<table border=\"1\" class=\"dataframe\">\n",
       "  <thead>\n",
       "    <tr style=\"text-align: right;\">\n",
       "      <th></th>\n",
       "      <th>article_link</th>\n",
       "      <th>headline</th>\n",
       "      <th>is_sarcastic</th>\n",
       "    </tr>\n",
       "  </thead>\n",
       "  <tbody>\n",
       "    <tr>\n",
       "      <th>0</th>\n",
       "      <td>https://www.huffingtonpost.com/entry/versace-b...</td>\n",
       "      <td>former versace store clerk sues over secret 'b...</td>\n",
       "      <td>0</td>\n",
       "    </tr>\n",
       "    <tr>\n",
       "      <th>1</th>\n",
       "      <td>https://www.huffingtonpost.com/entry/roseanne-...</td>\n",
       "      <td>the 'roseanne' revival catches up to our thorn...</td>\n",
       "      <td>0</td>\n",
       "    </tr>\n",
       "    <tr>\n",
       "      <th>2</th>\n",
       "      <td>https://local.theonion.com/mom-starting-to-fea...</td>\n",
       "      <td>mom starting to fear son's web series closest ...</td>\n",
       "      <td>1</td>\n",
       "    </tr>\n",
       "    <tr>\n",
       "      <th>3</th>\n",
       "      <td>https://politics.theonion.com/boehner-just-wan...</td>\n",
       "      <td>boehner just wants wife to listen, not come up...</td>\n",
       "      <td>1</td>\n",
       "    </tr>\n",
       "    <tr>\n",
       "      <th>4</th>\n",
       "      <td>https://www.huffingtonpost.com/entry/jk-rowlin...</td>\n",
       "      <td>j.k. rowling wishes snape happy birthday in th...</td>\n",
       "      <td>0</td>\n",
       "    </tr>\n",
       "  </tbody>\n",
       "</table>\n",
       "</div>"
      ],
      "text/plain": [
       "                                        article_link  \\\n",
       "0  https://www.huffingtonpost.com/entry/versace-b...   \n",
       "1  https://www.huffingtonpost.com/entry/roseanne-...   \n",
       "2  https://local.theonion.com/mom-starting-to-fea...   \n",
       "3  https://politics.theonion.com/boehner-just-wan...   \n",
       "4  https://www.huffingtonpost.com/entry/jk-rowlin...   \n",
       "\n",
       "                                            headline  is_sarcastic  \n",
       "0  former versace store clerk sues over secret 'b...             0  \n",
       "1  the 'roseanne' revival catches up to our thorn...             0  \n",
       "2  mom starting to fear son's web series closest ...             1  \n",
       "3  boehner just wants wife to listen, not come up...             1  \n",
       "4  j.k. rowling wishes snape happy birthday in th...             0  "
      ]
     },
     "execution_count": 40,
     "metadata": {},
     "output_type": "execute_result"
    }
   ],
   "source": [
    "data_df = pd.read_json('E:/Study/Pytorch_project/text_classification/Sarcasm_Headlines_Dataset.json', lines=True)\n",
    "data_df.dropna(inplace=True)\n",
    "data_df.drop_duplicates(inplace=True)\n",
    "data_df.head(5)"
   ]
  },
  {
   "cell_type": "code",
   "execution_count": 41,
   "id": "90e45e07",
   "metadata": {},
   "outputs": [
    {
     "name": "stdout",
     "output_type": "stream",
     "text": [
      "                                        article_link  \\\n",
      "0  https://www.huffingtonpost.com/entry/versace-b...   \n",
      "1  https://www.huffingtonpost.com/entry/roseanne-...   \n",
      "2  https://local.theonion.com/mom-starting-to-fea...   \n",
      "3  https://politics.theonion.com/boehner-just-wan...   \n",
      "4  https://www.huffingtonpost.com/entry/jk-rowlin...   \n",
      "\n",
      "                                            headline  is_sarcastic  \n",
      "0  former versace store clerk sues over secret 'b...             0  \n",
      "1  the 'roseanne' revival catches up to our thorn...             0  \n",
      "2  mom starting to fear son's web series closest ...             1  \n",
      "3  boehner just wants wife to listen, not come up...             1  \n",
      "4  j.k. rowling wishes snape happy birthday in th...             0  \n",
      "(26708, 3)\n",
      "Index(['article_link', 'headline', 'is_sarcastic'], dtype='object')\n"
     ]
    }
   ],
   "source": [
    "print(data_df.head())\n",
    "print(data_df.shape)\n",
    "print(data_df.columns)\n"
   ]
  },
  {
   "cell_type": "code",
   "execution_count": 42,
   "id": "8759c828",
   "metadata": {},
   "outputs": [],
   "source": [
    "data_df.drop([\"article_link\"],inplace=True, axis=1)"
   ]
  },
  {
   "cell_type": "code",
   "execution_count": 43,
   "id": "b2db8a67",
   "metadata": {},
   "outputs": [
    {
     "data": {
      "text/html": [
       "<div>\n",
       "<style scoped>\n",
       "    .dataframe tbody tr th:only-of-type {\n",
       "        vertical-align: middle;\n",
       "    }\n",
       "\n",
       "    .dataframe tbody tr th {\n",
       "        vertical-align: top;\n",
       "    }\n",
       "\n",
       "    .dataframe thead th {\n",
       "        text-align: right;\n",
       "    }\n",
       "</style>\n",
       "<table border=\"1\" class=\"dataframe\">\n",
       "  <thead>\n",
       "    <tr style=\"text-align: right;\">\n",
       "      <th></th>\n",
       "      <th>headline</th>\n",
       "      <th>is_sarcastic</th>\n",
       "    </tr>\n",
       "  </thead>\n",
       "  <tbody>\n",
       "    <tr>\n",
       "      <th>0</th>\n",
       "      <td>former versace store clerk sues over secret 'b...</td>\n",
       "      <td>0</td>\n",
       "    </tr>\n",
       "    <tr>\n",
       "      <th>1</th>\n",
       "      <td>the 'roseanne' revival catches up to our thorn...</td>\n",
       "      <td>0</td>\n",
       "    </tr>\n",
       "    <tr>\n",
       "      <th>2</th>\n",
       "      <td>mom starting to fear son's web series closest ...</td>\n",
       "      <td>1</td>\n",
       "    </tr>\n",
       "    <tr>\n",
       "      <th>3</th>\n",
       "      <td>boehner just wants wife to listen, not come up...</td>\n",
       "      <td>1</td>\n",
       "    </tr>\n",
       "    <tr>\n",
       "      <th>4</th>\n",
       "      <td>j.k. rowling wishes snape happy birthday in th...</td>\n",
       "      <td>0</td>\n",
       "    </tr>\n",
       "  </tbody>\n",
       "</table>\n",
       "</div>"
      ],
      "text/plain": [
       "                                            headline  is_sarcastic\n",
       "0  former versace store clerk sues over secret 'b...             0\n",
       "1  the 'roseanne' revival catches up to our thorn...             0\n",
       "2  mom starting to fear son's web series closest ...             1\n",
       "3  boehner just wants wife to listen, not come up...             1\n",
       "4  j.k. rowling wishes snape happy birthday in th...             0"
      ]
     },
     "execution_count": 43,
     "metadata": {},
     "output_type": "execute_result"
    }
   ],
   "source": [
    "data_df.head()"
   ]
  },
  {
   "cell_type": "code",
   "execution_count": 44,
   "id": "c62fb2e2",
   "metadata": {},
   "outputs": [],
   "source": [
    "X_train, X_test, y_train, y_test = train_test_split(\n",
    "    np.array(data_df['headline']),\n",
    "    np.array(data_df['is_sarcastic']),\n",
    "    test_size=0.3\n",
    ")\n"
   ]
  },
  {
   "cell_type": "code",
   "execution_count": 45,
   "id": "11adb358",
   "metadata": {},
   "outputs": [],
   "source": [
    "X_val, X_test, y_val, y_test = train_test_split(X_test, y_test, test_size=0.5)"
   ]
  },
  {
   "cell_type": "code",
   "execution_count": 47,
   "id": "0fc709fb",
   "metadata": {},
   "outputs": [
    {
     "name": "stdout",
     "output_type": "stream",
     "text": [
      "Training Size: 18695 rows, which is: 70.0 %\n",
      "Validation Size: 4006 rows, which is: 15.0 %\n",
      "Testing Size: 4007 rows, which is: 15.0 %\n"
     ]
    }
   ],
   "source": [
    "print(\"Training Size:\", X_train.shape[0], \"rows, which is:\",\n",
    "      round(X_train.shape[0] / data_df.shape[0] * 100, 2), \"%\")\n",
    "\n",
    "print(\"Validation Size:\", X_val.shape[0], \"rows, which is:\",\n",
    "      round(X_val.shape[0] / data_df.shape[0] * 100, 2), \"%\")\n",
    "\n",
    "print(\"Testing Size:\", X_test.shape[0], \"rows, which is:\",\n",
    "      round(X_test.shape[0] / data_df.shape[0] * 100, 2), \"%\")\n"
   ]
  },
  {
   "cell_type": "code",
   "execution_count": 17,
   "id": "88ea355b",
   "metadata": {},
   "outputs": [
    {
     "data": {
      "application/vnd.jupyter.widget-view+json": {
       "model_id": "a02885b46e1f496a83eb58020699824b",
       "version_major": 2,
       "version_minor": 0
      },
      "text/plain": [
       "tokenizer_config.json:   0%|          | 0.00/48.0 [00:00<?, ?B/s]"
      ]
     },
     "metadata": {},
     "output_type": "display_data"
    },
    {
     "data": {
      "application/vnd.jupyter.widget-view+json": {
       "model_id": "08cc868545994969b3c6057fbcf70016",
       "version_major": 2,
       "version_minor": 0
      },
      "text/plain": [
       "config.json:   0%|          | 0.00/570 [00:00<?, ?B/s]"
      ]
     },
     "metadata": {},
     "output_type": "display_data"
    },
    {
     "data": {
      "application/vnd.jupyter.widget-view+json": {
       "model_id": "06b0fbcf49d347c297c5b0ba6eece48f",
       "version_major": 2,
       "version_minor": 0
      },
      "text/plain": [
       "vocab.txt: 0.00B [00:00, ?B/s]"
      ]
     },
     "metadata": {},
     "output_type": "display_data"
    },
    {
     "data": {
      "application/vnd.jupyter.widget-view+json": {
       "model_id": "2594bf8423444a2398c5e81067c823ef",
       "version_major": 2,
       "version_minor": 0
      },
      "text/plain": [
       "tokenizer.json: 0.00B [00:00, ?B/s]"
      ]
     },
     "metadata": {},
     "output_type": "display_data"
    },
    {
     "name": "stderr",
     "output_type": "stream",
     "text": [
      "Xet Storage is enabled for this repo, but the 'hf_xet' package is not installed. Falling back to regular HTTP download. For better performance, install the package with: `pip install huggingface_hub[hf_xet]` or `pip install hf_xet`\n"
     ]
    },
    {
     "data": {
      "application/vnd.jupyter.widget-view+json": {
       "model_id": "ee88394be3c443c3a63dccc08dcd60e0",
       "version_major": 2,
       "version_minor": 0
      },
      "text/plain": [
       "model.safetensors:   0%|          | 0.00/440M [00:00<?, ?B/s]"
      ]
     },
     "metadata": {},
     "output_type": "display_data"
    }
   ],
   "source": [
    "\n",
    "\n",
    "tokenizer = AutoTokenizer.from_pretrained(\"google-bert/bert-base-uncased\")\n",
    "bert_model = AutoModel.from_pretrained(\"google-bert/bert-base-uncased\")"
   ]
  },
  {
   "cell_type": "code",
   "execution_count": 48,
   "id": "fb2509b2",
   "metadata": {},
   "outputs": [],
   "source": [
    "\n",
    "\n",
    "class dataset(Dataset):\n",
    "    def __init__(self, X, Y):\n",
    "        self.X = [\n",
    "            tokenizer(\n",
    "                x,\n",
    "                max_length=100,\n",
    "                truncation=True,\n",
    "                padding=\"max_length\",\n",
    "                return_tensors='pt'\n",
    "            ).to(device)\n",
    "            for x in X\n",
    "        ]\n",
    "        self.Y = torch.tensor(Y, dtype=torch.float32).to(device)\n",
    "\n",
    "    def __len__(self):\n",
    "        return len(self.X)\n",
    "\n",
    "    def __getitem__(self, idx):\n",
    "        return self.X[idx], self.Y[idx]\n"
   ]
  },
  {
   "cell_type": "code",
   "execution_count": 49,
   "id": "35ad7b5d",
   "metadata": {},
   "outputs": [],
   "source": [
    "training_data = dataset(X_train, y_train)\n",
    "\n",
    "validation_data = dataset(X_val, y_val)\n",
    "\n",
    "testing_data = dataset(X_test, y_test)"
   ]
  },
  {
   "cell_type": "code",
   "execution_count": 50,
   "id": "d12de0d6",
   "metadata": {},
   "outputs": [],
   "source": [
    "BATCH_SIZE =32\n",
    "EPOCHS = 10\n",
    "LR =1e-4"
   ]
  },
  {
   "cell_type": "code",
   "execution_count": 51,
   "id": "7e61927e",
   "metadata": {},
   "outputs": [],
   "source": [
    "train_dataloader = DataLoader(train_data, batch_size=BATCH_SIZE, shuffle=True)\n",
    "validation_dataloader = DataLoader(validation_data, batch_size=BATCH_SIZE, shuffle=True)\n",
    "testing_dataloader = DataLoader(testing_data, batch_size=BATCH_SIZE, shuffle=True)\n"
   ]
  },
  {
   "cell_type": "code",
   "execution_count": 52,
   "id": "333d7495",
   "metadata": {},
   "outputs": [],
   "source": [
    "class MyModel(nn.Module):\n",
    "    def __init__(self, bert):\n",
    "        super(MyModel, self).__init__()\n",
    "\n",
    "        self.bert = bert\n",
    "        self.dropout = nn.Dropout(0.25)\n",
    "        self.linear1 = nn.Linear(768, 384)\n",
    "        self.linear2 = nn.Linear(384, 1)\n",
    "        self.sigmoid = nn.Sigmoid()\n",
    "\n",
    "    def forward(self, input_ids, attention_mask):\n",
    "        pooled_output = self.bert(input_ids, attention_mask, return_dict=False)[0][:, 0, :]\n",
    "        output = self.linear1(pooled_output)\n",
    "        output = self.dropout(output)\n",
    "        output = self.linear2(output)\n",
    "        output = self.sigmoid(output)\n",
    "        return output\n"
   ]
  },
  {
   "cell_type": "code",
   "execution_count": 53,
   "id": "0a18a93a",
   "metadata": {},
   "outputs": [],
   "source": [
    "for param in bert_model.parameters():\n",
    "    param.requires_grad = False\n",
    "model = MyModel(bert_model).to(device)"
   ]
  },
  {
   "cell_type": "code",
   "execution_count": 54,
   "id": "cbea9feb",
   "metadata": {},
   "outputs": [
    {
     "data": {
      "text/plain": [
       "MyModel(\n",
       "  (bert): BertModel(\n",
       "    (embeddings): BertEmbeddings(\n",
       "      (word_embeddings): Embedding(30522, 768, padding_idx=0)\n",
       "      (position_embeddings): Embedding(512, 768)\n",
       "      (token_type_embeddings): Embedding(2, 768)\n",
       "      (LayerNorm): LayerNorm((768,), eps=1e-12, elementwise_affine=True)\n",
       "      (dropout): Dropout(p=0.1, inplace=False)\n",
       "    )\n",
       "    (encoder): BertEncoder(\n",
       "      (layer): ModuleList(\n",
       "        (0-11): 12 x BertLayer(\n",
       "          (attention): BertAttention(\n",
       "            (self): BertSdpaSelfAttention(\n",
       "              (query): Linear(in_features=768, out_features=768, bias=True)\n",
       "              (key): Linear(in_features=768, out_features=768, bias=True)\n",
       "              (value): Linear(in_features=768, out_features=768, bias=True)\n",
       "              (dropout): Dropout(p=0.1, inplace=False)\n",
       "            )\n",
       "            (output): BertSelfOutput(\n",
       "              (dense): Linear(in_features=768, out_features=768, bias=True)\n",
       "              (LayerNorm): LayerNorm((768,), eps=1e-12, elementwise_affine=True)\n",
       "              (dropout): Dropout(p=0.1, inplace=False)\n",
       "            )\n",
       "          )\n",
       "          (intermediate): BertIntermediate(\n",
       "            (dense): Linear(in_features=768, out_features=3072, bias=True)\n",
       "            (intermediate_act_fn): GELUActivation()\n",
       "          )\n",
       "          (output): BertOutput(\n",
       "            (dense): Linear(in_features=3072, out_features=768, bias=True)\n",
       "            (LayerNorm): LayerNorm((768,), eps=1e-12, elementwise_affine=True)\n",
       "            (dropout): Dropout(p=0.1, inplace=False)\n",
       "          )\n",
       "        )\n",
       "      )\n",
       "    )\n",
       "    (pooler): BertPooler(\n",
       "      (dense): Linear(in_features=768, out_features=768, bias=True)\n",
       "      (activation): Tanh()\n",
       "    )\n",
       "  )\n",
       "  (dropout): Dropout(p=0.25, inplace=False)\n",
       "  (linear1): Linear(in_features=768, out_features=384, bias=True)\n",
       "  (linear2): Linear(in_features=384, out_features=1, bias=True)\n",
       "  (sigmoid): Sigmoid()\n",
       ")"
      ]
     },
     "execution_count": 54,
     "metadata": {},
     "output_type": "execute_result"
    }
   ],
   "source": [
    "model"
   ]
  },
  {
   "cell_type": "code",
   "execution_count": 55,
   "id": "687cad57",
   "metadata": {},
   "outputs": [],
   "source": [
    "criterion = nn.BCELoss()\n",
    "optimizer = Adam(model.parameters(),lr =LR)"
   ]
  },
  {
   "cell_type": "code",
   "execution_count": 65,
   "id": "104e6d42",
   "metadata": {},
   "outputs": [
    {
     "name": "stdout",
     "output_type": "stream",
     "text": [
      "\n",
      "===== Epoch 1/15 =====\n"
     ]
    },
    {
     "name": "stderr",
     "output_type": "stream",
     "text": [
      "                                                             \r"
     ]
    },
    {
     "name": "stdout",
     "output_type": "stream",
     "text": [
      "Epoch 1: Train Loss = 0.3796, Train Acc = 0.8353, Val Loss = 0.3439, Val Acc = 0.8480\n",
      "\n",
      "===== Epoch 2/15 =====\n"
     ]
    },
    {
     "name": "stderr",
     "output_type": "stream",
     "text": [
      "                                                             \r"
     ]
    },
    {
     "name": "stdout",
     "output_type": "stream",
     "text": [
      "Epoch 2: Train Loss = 0.3783, Train Acc = 0.8341, Val Loss = 0.3343, Val Acc = 0.8575\n",
      "\n",
      "===== Epoch 3/15 =====\n"
     ]
    },
    {
     "name": "stderr",
     "output_type": "stream",
     "text": [
      "                                                             \r"
     ]
    },
    {
     "name": "stdout",
     "output_type": "stream",
     "text": [
      "Epoch 3: Train Loss = 0.3723, Train Acc = 0.8386, Val Loss = 0.3310, Val Acc = 0.8572\n",
      "\n",
      "===== Epoch 4/15 =====\n"
     ]
    },
    {
     "name": "stderr",
     "output_type": "stream",
     "text": [
      "                                                             \r"
     ]
    },
    {
     "name": "stdout",
     "output_type": "stream",
     "text": [
      "Epoch 4: Train Loss = 0.3723, Train Acc = 0.8388, Val Loss = 0.3288, Val Acc = 0.8630\n",
      "\n",
      "===== Epoch 5/15 =====\n"
     ]
    },
    {
     "name": "stderr",
     "output_type": "stream",
     "text": [
      "                                                             \r"
     ]
    },
    {
     "name": "stdout",
     "output_type": "stream",
     "text": [
      "Epoch 5: Train Loss = 0.3742, Train Acc = 0.8363, Val Loss = 0.3288, Val Acc = 0.8615\n",
      "\n",
      "===== Epoch 6/15 =====\n"
     ]
    },
    {
     "name": "stderr",
     "output_type": "stream",
     "text": [
      "                                                             \r"
     ]
    },
    {
     "name": "stdout",
     "output_type": "stream",
     "text": [
      "Epoch 6: Train Loss = 0.3699, Train Acc = 0.8391, Val Loss = 0.3219, Val Acc = 0.8610\n",
      "\n",
      "===== Epoch 7/15 =====\n"
     ]
    },
    {
     "name": "stderr",
     "output_type": "stream",
     "text": [
      "                                                             \r"
     ]
    },
    {
     "name": "stdout",
     "output_type": "stream",
     "text": [
      "Epoch 7: Train Loss = 0.3729, Train Acc = 0.8374, Val Loss = 0.3243, Val Acc = 0.8582\n",
      "\n",
      "===== Epoch 8/15 =====\n"
     ]
    },
    {
     "name": "stderr",
     "output_type": "stream",
     "text": [
      "                                                             \r"
     ]
    },
    {
     "name": "stdout",
     "output_type": "stream",
     "text": [
      "Epoch 8: Train Loss = 0.3706, Train Acc = 0.8404, Val Loss = 0.3196, Val Acc = 0.8674\n",
      "\n",
      "===== Epoch 9/15 =====\n"
     ]
    },
    {
     "name": "stderr",
     "output_type": "stream",
     "text": [
      "                                                             \r"
     ]
    },
    {
     "name": "stdout",
     "output_type": "stream",
     "text": [
      "Epoch 9: Train Loss = 0.3675, Train Acc = 0.8399, Val Loss = 0.3224, Val Acc = 0.8650\n",
      "\n",
      "===== Epoch 10/15 =====\n"
     ]
    },
    {
     "name": "stderr",
     "output_type": "stream",
     "text": [
      "                                                             \r"
     ]
    },
    {
     "name": "stdout",
     "output_type": "stream",
     "text": [
      "Epoch 10: Train Loss = 0.3637, Train Acc = 0.8441, Val Loss = 0.3150, Val Acc = 0.8640\n",
      "\n",
      "===== Epoch 11/15 =====\n"
     ]
    },
    {
     "name": "stderr",
     "output_type": "stream",
     "text": [
      "                                                             \r"
     ]
    },
    {
     "name": "stdout",
     "output_type": "stream",
     "text": [
      "Epoch 11: Train Loss = 0.3693, Train Acc = 0.8386, Val Loss = 0.3202, Val Acc = 0.8575\n",
      "\n",
      "===== Epoch 12/15 =====\n"
     ]
    },
    {
     "name": "stderr",
     "output_type": "stream",
     "text": [
      "                                                             \r"
     ]
    },
    {
     "name": "stdout",
     "output_type": "stream",
     "text": [
      "Epoch 12: Train Loss = 0.3736, Train Acc = 0.8365, Val Loss = 0.3213, Val Acc = 0.8669\n",
      "\n",
      "===== Epoch 13/15 =====\n"
     ]
    },
    {
     "name": "stderr",
     "output_type": "stream",
     "text": [
      "                                                             \r"
     ]
    },
    {
     "name": "stdout",
     "output_type": "stream",
     "text": [
      "Epoch 13: Train Loss = 0.3621, Train Acc = 0.8432, Val Loss = 0.3183, Val Acc = 0.8602\n",
      "\n",
      "===== Epoch 14/15 =====\n"
     ]
    },
    {
     "name": "stderr",
     "output_type": "stream",
     "text": [
      "                                                             \r"
     ]
    },
    {
     "name": "stdout",
     "output_type": "stream",
     "text": [
      "Epoch 14: Train Loss = 0.3715, Train Acc = 0.8385, Val Loss = 0.3276, Val Acc = 0.8652\n",
      "\n",
      "===== Epoch 15/15 =====\n"
     ]
    },
    {
     "name": "stderr",
     "output_type": "stream",
     "text": [
      "                                                             "
     ]
    },
    {
     "name": "stdout",
     "output_type": "stream",
     "text": [
      "Epoch 15: Train Loss = 0.3659, Train Acc = 0.8418, Val Loss = 0.3185, Val Acc = 0.8617\n"
     ]
    },
    {
     "name": "stderr",
     "output_type": "stream",
     "text": [
      "\r"
     ]
    }
   ],
   "source": [
    "from tqdm import tqdm\n",
    "import torch\n",
    "\n",
    "EPOCHS = 15\n",
    "BATCH_SIZE = 32\n",
    "\n",
    "total_loss_train_plot = []\n",
    "total_loss_val_plot = []\n",
    "total_acc_train_plot = []\n",
    "total_acc_val_plot = []\n",
    "\n",
    "for epoch in range(EPOCHS):\n",
    "    print(f\"\\n===== Epoch {epoch + 1}/{EPOCHS} =====\")\n",
    "\n",
    "    # ---------- TRAINING ----------\n",
    "    model.train()  # Enable dropout, gradient updates\n",
    "    total_loss_train = 0\n",
    "    total_acc_train = 0\n",
    "\n",
    "    train_loop = tqdm(train_dataloader, desc=\"Training\", leave=False)\n",
    "    for batch in train_loop:\n",
    "        inputs, labels = batch\n",
    "\n",
    "        # Move data to GPU/CPU\n",
    "        inputs = {k: v.to(device) for k, v in inputs.items()}\n",
    "        labels = labels.to(device)\n",
    "\n",
    "        # Forward pass\n",
    "        predictions = model(inputs[\"input_ids\"].squeeze(1),\n",
    "                            inputs[\"attention_mask\"].squeeze(1))\n",
    "\n",
    "        # Compute loss\n",
    "        batch_loss = criterion(predictions, labels.unsqueeze(1))\n",
    "        total_loss_train += batch_loss.item()\n",
    "\n",
    "        # Backward pass\n",
    "        optimizer.zero_grad()\n",
    "        batch_loss.backward()\n",
    "        optimizer.step()\n",
    "\n",
    "        # Compute accuracy\n",
    "        preds = torch.round(predictions)\n",
    "        acc = (preds == labels.unsqueeze(1)).sum().item()\n",
    "        total_acc_train += acc\n",
    "\n",
    "    avg_train_loss = total_loss_train / len(train_dataloader)\n",
    "    avg_train_acc = total_acc_train / len(training_data)\n",
    "\n",
    "    # ---------- VALIDATION ----------\n",
    "    model.eval()  # Disable dropout, no gradient updates\n",
    "    total_loss_val = 0\n",
    "    total_acc_val = 0\n",
    "\n",
    "    val_loop = tqdm(validation_dataloader, desc=\"Validating\", leave=False)\n",
    "    with torch.no_grad():\n",
    "        for batch in val_loop:\n",
    "            inputs, labels = batch\n",
    "            inputs = {k: v.to(device) for k, v in inputs.items()}\n",
    "            labels = labels.to(device)\n",
    "\n",
    "            predictions = model(inputs[\"input_ids\"].squeeze(1),\n",
    "                                inputs[\"attention_mask\"].squeeze(1))\n",
    "\n",
    "            batch_loss = criterion(predictions, labels.unsqueeze(1))\n",
    "            total_loss_val += batch_loss.item()\n",
    "\n",
    "            preds = torch.round(predictions)\n",
    "            acc = (preds == labels.unsqueeze(1)).sum().item()\n",
    "            total_acc_val += acc\n",
    "\n",
    "    avg_val_loss = total_loss_val / len(validation_dataloader)\n",
    "    avg_val_acc = total_acc_val / len(validation_data)\n",
    "\n",
    "    # ---------- TRACK METRICS ----------\n",
    "    total_loss_train_plot.append(round(avg_train_loss, 4))\n",
    "    total_loss_val_plot.append(round(avg_val_loss, 4))\n",
    "    total_acc_train_plot.append(round(avg_train_acc, 4))\n",
    "    total_acc_val_plot.append(round(avg_val_acc, 4))\n",
    "\n",
    "    print(f\"Epoch {epoch + 1}: \"\n",
    "          f\"Train Loss = {avg_train_loss:.4f}, \"\n",
    "          f\"Train Acc = {avg_train_acc:.4f}, \"\n",
    "          f\"Val Loss = {avg_val_loss:.4f}, \"\n",
    "          f\"Val Acc = {avg_val_acc:.4f}\")\n"
   ]
  },
  {
   "cell_type": "code",
   "execution_count": 66,
   "id": "64870c24",
   "metadata": {},
   "outputs": [
    {
     "name": "stderr",
     "output_type": "stream",
     "text": [
      "                                                          "
     ]
    },
    {
     "name": "stdout",
     "output_type": "stream",
     "text": [
      "\n",
      "===== TEST RESULTS =====\n",
      "Test Loss: 0.3142\n",
      "Test Accuracy: 0.8577\n"
     ]
    },
    {
     "name": "stderr",
     "output_type": "stream",
     "text": [
      "\r"
     ]
    }
   ],
   "source": [
    "# ---------- TESTING PHASE ----------\n",
    "model.eval()  # Set model to evaluation mode\n",
    "total_loss_test = 0\n",
    "total_acc_test = 0\n",
    "\n",
    "with torch.no_grad():  # Disable gradient calculation\n",
    "    test_loop = tqdm(testing_dataloader, desc=\"Testing\", leave=False)\n",
    "    for batch in test_loop:\n",
    "        inputs, labels = batch\n",
    "        inputs = {k: v.to(device) for k, v in inputs.items()}\n",
    "        labels = labels.to(device)\n",
    "\n",
    "        # Forward pass\n",
    "        predictions = model(inputs[\"input_ids\"].squeeze(1),\n",
    "                            inputs[\"attention_mask\"].squeeze(1))\n",
    "\n",
    "        # Compute loss\n",
    "        batch_loss = criterion(predictions, labels.unsqueeze(1))\n",
    "        total_loss_test += batch_loss.item()\n",
    "\n",
    "        # Compute accuracy\n",
    "        preds = torch.round(predictions)\n",
    "        acc = (preds == labels.unsqueeze(1)).sum().item()\n",
    "        total_acc_test += acc\n",
    "\n",
    "# Average metrics\n",
    "avg_test_loss = total_loss_test / len(testing_dataloader)\n",
    "avg_test_acc = total_acc_test / len(testing_data)\n",
    "\n",
    "print(\"\\n===== TEST RESULTS =====\")\n",
    "print(f\"Test Loss: {avg_test_loss:.4f}\")\n",
    "print(f\"Test Accuracy: {avg_test_acc:.4f}\")\n"
   ]
  },
  {
   "cell_type": "code",
   "execution_count": 67,
   "id": "fdd497e6",
   "metadata": {},
   "outputs": [
    {
     "data": {
      "image/png": "[encoded data removed]",
      "text/plain": [
       "<Figure size 800x500 with 1 Axes>"
      ]
     },
     "metadata": {},
     "output_type": "display_data"
    },
    {
     "data": {
      "image/png": "[encoded data removed]",
      "text/plain": [
       "<Figure size 800x500 with 1 Axes>"
      ]
     },
     "metadata": {},
     "output_type": "display_data"
    }
   ],
   "source": [
    "import matplotlib.pyplot as plt\n",
    "\n",
    "# ---------- LOSS PLOTS ----------\n",
    "plt.figure(figsize=(8, 5))\n",
    "plt.plot(total_loss_train_plot, label='Training Loss', marker='o')\n",
    "plt.plot(total_loss_val_plot, label='Validation Loss', marker='o')\n",
    "plt.title('Training vs Validation Loss')\n",
    "plt.xlabel('Epoch')\n",
    "plt.ylabel('Loss')\n",
    "plt.legend()\n",
    "plt.grid(True)\n",
    "plt.show()\n",
    "\n",
    "# ---------- ACCURACY PLOTS ----------\n",
    "plt.figure(figsize=(8, 5))\n",
    "plt.plot(total_acc_train_plot, label='Training Accuracy', marker='o')\n",
    "plt.plot(total_acc_val_plot, label='Validation Accuracy', marker='o')\n",
    "plt.title('Training vs Validation Accuracy')\n",
    "plt.xlabel('Epoch')\n",
    "plt.ylabel('Accuracy')\n",
    "plt.legend()\n",
    "plt.grid(True)\n",
    "plt.show()\n"
   ]
  },
  {
   "cell_type": "code",
   "execution_count": null,
   "id": "dedbd259",
   "metadata": {},
   "outputs": [],
   "source": []
  }
 ],
 "metadata": {
  "kernelspec": {
   "display_name": "cuda",
   "language": "python",
   "name": "python3"
  },
  "language_info": {
   "codemirror_mode": {
    "name": "ipython",
    "version": 3
   },
   "file_extension": ".py",
   "mimetype": "text/x-python",
   "name": "python",
   "nbconvert_exporter": "python",
   "pygments_lexer": "ipython3",
   "version": "3.11.13"
  }
 },
 "nbformat": 4,
 "nbformat_minor": 5
}
